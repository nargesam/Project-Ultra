{
 "cells": [
  {
   "cell_type": "code",
   "execution_count": 137,
   "metadata": {},
   "outputs": [
    {
     "name": "stdout",
     "output_type": "stream",
     "text": [
      "The autoreload extension is already loaded. To reload it, use:\n",
      "  %reload_ext autoreload\n"
     ]
    }
   ],
   "source": [
    "%load_ext autoreload\n",
    "%autoreload 2\n",
    "\n",
    "import os\n",
    "import sys\n",
    "\n",
    "\n",
    "from keras.models import Model\n",
    "from keras.layers import Input, LSTM, Dense, GRU\n",
    "import numpy as np\n",
    "import pandas as pd\n",
    "\n",
    "\n",
    "sys.path.append('../src')\n",
    "\n",
    "import enigma_challenge as ec"
   ]
  },
  {
   "cell_type": "markdown",
   "metadata": {},
   "source": [
    "# Generate dataset"
   ]
  },
  {
   "cell_type": "code",
   "execution_count": 221,
   "metadata": {},
   "outputs": [
    {
     "data": {
      "text/html": [
       "<div>\n",
       "<style scoped>\n",
       "    .dataframe tbody tr th:only-of-type {\n",
       "        vertical-align: middle;\n",
       "    }\n",
       "\n",
       "    .dataframe tbody tr th {\n",
       "        vertical-align: top;\n",
       "    }\n",
       "\n",
       "    .dataframe thead th {\n",
       "        text-align: right;\n",
       "    }\n",
       "</style>\n",
       "<table border=\"1\" class=\"dataframe\">\n",
       "  <thead>\n",
       "    <tr style=\"text-align: right;\">\n",
       "      <th></th>\n",
       "      <th>PLAIN</th>\n",
       "      <th>CIPHER</th>\n",
       "    </tr>\n",
       "  </thead>\n",
       "  <tbody>\n",
       "    <tr>\n",
       "      <th>0</th>\n",
       "      <td>GOLEARNABLEONE</td>\n",
       "      <td>HMSKLWYPLPTEVO</td>\n",
       "    </tr>\n",
       "    <tr>\n",
       "      <th>1</th>\n",
       "      <td>CARRYOTHERSASSUMEMEET</td>\n",
       "      <td>VEXBNYVOCGFGFXVBUCCIO</td>\n",
       "    </tr>\n",
       "    <tr>\n",
       "      <th>2</th>\n",
       "      <td>SELLNONEWITHACCEPT</td>\n",
       "      <td>UASHYYYVMHEMDWOGKH</td>\n",
       "    </tr>\n",
       "    <tr>\n",
       "      <th>3</th>\n",
       "      <td>GREENAIRBLACKLINEPUSHPAY</td>\n",
       "      <td>HGVKYTXDLPKUWVFYUVLRAHJW</td>\n",
       "    </tr>\n",
       "    <tr>\n",
       "      <th>4</th>\n",
       "      <td>PASSSEASONRESPONDMAYABLELESS</td>\n",
       "      <td>OELWWZOWSSUOFMCYHCDNHADNKXYY</td>\n",
       "    </tr>\n",
       "  </tbody>\n",
       "</table>\n",
       "</div>"
      ],
      "text/plain": [
       "                          PLAIN                        CIPHER\n",
       "0                GOLEARNABLEONE                HMSKLWYPLPTEVO\n",
       "1         CARRYOTHERSASSUMEMEET         VEXBNYVOCGFGFXVBUCCIO\n",
       "2            SELLNONEWITHACCEPT            UASHYYYVMHEMDWOGKH\n",
       "3      GREENAIRBLACKLINEPUSHPAY      HGVKYTXDLPKUWVFYUVLRAHJW\n",
       "4  PASSSEASONRESPONDMAYABLELESS  OELWWZOWSSUOFMCYHCDNHADNKXYY"
      ]
     },
     "execution_count": 221,
     "metadata": {},
     "output_type": "execute_result"
    }
   ],
   "source": [
    "# create dataset of len 2**15\n",
    "power = 15\n",
    "n_samples = 1<<power\n",
    "\n",
    "# if the data is already saved, reads the data, otherwise generates the data\n",
    "save_file = f\"../data/raw/enigma_data_{power}.csv\"\n",
    "ENIGMA_OBJ = ec.EnigmaDataset(n_samples=n_samples, seq_len=42, save_file=save_file)\n",
    "ENIGMA_OBJ.dataset.head()"
   ]
  },
  {
   "cell_type": "markdown",
   "metadata": {},
   "source": [
    "# Test/train split (with caching)"
   ]
  },
  {
   "cell_type": "code",
   "execution_count": 222,
   "metadata": {},
   "outputs": [],
   "source": [
    "n_test_samples = 16384\n",
    "sent_partition_size = 7\n",
    "\n",
    "ENIGMA_OBJ.test_train_split(n_test_samples=n_test_samples, \n",
    "                            sent_partition_size=sent_partition_size)"
   ]
  },
  {
   "cell_type": "code",
   "execution_count": 223,
   "metadata": {},
   "outputs": [
    {
     "data": {
      "text/html": [
       "<div>\n",
       "<style scoped>\n",
       "    .dataframe tbody tr th:only-of-type {\n",
       "        vertical-align: middle;\n",
       "    }\n",
       "\n",
       "    .dataframe tbody tr th {\n",
       "        vertical-align: top;\n",
       "    }\n",
       "\n",
       "    .dataframe thead th {\n",
       "        text-align: right;\n",
       "    }\n",
       "</style>\n",
       "<table border=\"1\" class=\"dataframe\">\n",
       "  <thead>\n",
       "    <tr style=\"text-align: right;\">\n",
       "      <th></th>\n",
       "      <th>ID</th>\n",
       "      <th>PLAIN</th>\n",
       "      <th>CIPHER</th>\n",
       "    </tr>\n",
       "  </thead>\n",
       "  <tbody>\n",
       "    <tr>\n",
       "      <th>0</th>\n",
       "      <td>1</td>\n",
       "      <td>CARRYOT</td>\n",
       "      <td>VEXBNYV</td>\n",
       "    </tr>\n",
       "    <tr>\n",
       "      <th>1</th>\n",
       "      <td>1</td>\n",
       "      <td>HERSASS</td>\n",
       "      <td>OCGFGFX</td>\n",
       "    </tr>\n",
       "    <tr>\n",
       "      <th>2</th>\n",
       "      <td>1</td>\n",
       "      <td>UMEMEET</td>\n",
       "      <td>VBUCCIO</td>\n",
       "    </tr>\n",
       "    <tr>\n",
       "      <th>3</th>\n",
       "      <td>2</td>\n",
       "      <td>SELLNON</td>\n",
       "      <td>UASHYYY</td>\n",
       "    </tr>\n",
       "    <tr>\n",
       "      <th>4</th>\n",
       "      <td>2</td>\n",
       "      <td>EWITHAC</td>\n",
       "      <td>VMHEMDW</td>\n",
       "    </tr>\n",
       "  </tbody>\n",
       "</table>\n",
       "</div>"
      ],
      "text/plain": [
       "   ID    PLAIN   CIPHER\n",
       "0   1  CARRYOT  VEXBNYV\n",
       "1   1  HERSASS  OCGFGFX\n",
       "2   1  UMEMEET  VBUCCIO\n",
       "3   2  SELLNON  UASHYYY\n",
       "4   2  EWITHAC  VMHEMDW"
      ]
     },
     "execution_count": 223,
     "metadata": {},
     "output_type": "execute_result"
    }
   ],
   "source": [
    "ENIGMA_OBJ.train_data_partitioned.head()"
   ]
  },
  {
   "cell_type": "code",
   "execution_count": 224,
   "metadata": {},
   "outputs": [
    {
     "data": {
      "text/html": [
       "<div>\n",
       "<style scoped>\n",
       "    .dataframe tbody tr th:only-of-type {\n",
       "        vertical-align: middle;\n",
       "    }\n",
       "\n",
       "    .dataframe tbody tr th {\n",
       "        vertical-align: top;\n",
       "    }\n",
       "\n",
       "    .dataframe thead th {\n",
       "        text-align: right;\n",
       "    }\n",
       "</style>\n",
       "<table border=\"1\" class=\"dataframe\">\n",
       "  <thead>\n",
       "    <tr style=\"text-align: right;\">\n",
       "      <th></th>\n",
       "      <th>ID</th>\n",
       "      <th>PLAIN</th>\n",
       "      <th>CIPHER</th>\n",
       "    </tr>\n",
       "  </thead>\n",
       "  <tbody>\n",
       "    <tr>\n",
       "      <th>0</th>\n",
       "      <td>1588</td>\n",
       "      <td>FINALLY</td>\n",
       "      <td>JFPIAUN</td>\n",
       "    </tr>\n",
       "    <tr>\n",
       "      <th>1</th>\n",
       "      <td>1588</td>\n",
       "      <td>SUMMERA</td>\n",
       "      <td>WXYCOMH</td>\n",
       "    </tr>\n",
       "    <tr>\n",
       "      <th>2</th>\n",
       "      <td>1588</td>\n",
       "      <td>PPROACH</td>\n",
       "      <td>BZJKDVA</td>\n",
       "    </tr>\n",
       "    <tr>\n",
       "      <th>3</th>\n",
       "      <td>1588</td>\n",
       "      <td>TENHOTE</td>\n",
       "      <td>XOENYOH</td>\n",
       "    </tr>\n",
       "    <tr>\n",
       "      <th>4</th>\n",
       "      <td>1588</td>\n",
       "      <td>LSHAKE</td>\n",
       "      <td>KIDCWL</td>\n",
       "    </tr>\n",
       "  </tbody>\n",
       "</table>\n",
       "</div>"
      ],
      "text/plain": [
       "     ID    PLAIN   CIPHER\n",
       "0  1588  FINALLY  JFPIAUN\n",
       "1  1588  SUMMERA  WXYCOMH\n",
       "2  1588  PPROACH  BZJKDVA\n",
       "3  1588  TENHOTE  XOENYOH\n",
       "4  1588   LSHAKE   KIDCWL"
      ]
     },
     "execution_count": 224,
     "metadata": {},
     "output_type": "execute_result"
    }
   ],
   "source": [
    "ENIGMA_OBJ.test_data_partitioned.head()"
   ]
  },
  {
   "cell_type": "code",
   "execution_count": 225,
   "metadata": {},
   "outputs": [
    {
     "name": "stdout",
     "output_type": "stream",
     "text": [
      "# of training examples: 16384\n",
      "# of test examples: 16384\n"
     ]
    }
   ],
   "source": [
    "print(f\"# of training examples: {ENIGMA_OBJ.train_data.shape[0]}\")\n",
    "print(f\"# of test examples: {ENIGMA_OBJ.test_data.shape[0]}\")"
   ]
  },
  {
   "cell_type": "markdown",
   "metadata": {},
   "source": [
    "# Encode the dataset"
   ]
  },
  {
   "cell_type": "code",
   "execution_count": 226,
   "metadata": {},
   "outputs": [],
   "source": [
    "ENIGMA_ENCODED = ec.EncodedDataset(unencoded_dataset=ENIGMA_OBJ)"
   ]
  },
  {
   "cell_type": "code",
   "execution_count": 227,
   "metadata": {},
   "outputs": [
    {
     "name": "stdout",
     "output_type": "stream",
     "text": [
      "['\\tCARRYOT\\n', '\\tHERSASS\\n', '\\tUMEMEET\\n', '\\tSELLNON\\n', '\\tEWITHAC\\n']\n",
      "['VEXBNYV', 'OCGFGFX', 'VBUCCIO', 'UASHYYY', 'VMHEMDW']\n",
      "['\\tFINALLY\\n', '\\tSUMMERA\\n', '\\tPPROACH\\n', '\\tTENHOTE\\n', '\\tLSHAKE\\n']\n",
      "['JFPIAUN', 'WXYCOMH', 'BZJKDVA', 'XOENYOH', 'KIDCWL']\n"
     ]
    }
   ],
   "source": [
    "print(ENIGMA_ENCODED.plain_train.sentences_processed[0:5])\n",
    "print(ENIGMA_ENCODED.cipher_train.sentences_processed[0:5])\n",
    "print(ENIGMA_ENCODED.plain_test.sentences_processed[0:5])\n",
    "print(ENIGMA_ENCODED.cipher_test.sentences_processed[0:5])"
   ]
  },
  {
   "cell_type": "code",
   "execution_count": 228,
   "metadata": {},
   "outputs": [
    {
     "name": "stdout",
     "output_type": "stream",
     "text": [
      "['\\t', '\\n', 'A', 'B', 'C', 'D', 'E', 'F', 'G', 'H', 'I', 'J', 'K', 'L', 'M', 'N', 'O', 'P', 'Q', 'R', 'S', 'T', 'U', 'V', 'W', 'X', 'Y', 'Z']\n",
      "['A', 'B', 'C', 'D', 'E', 'F', 'G', 'H', 'I', 'J', 'K', 'L', 'M', 'N', 'O', 'P', 'Q', 'R', 'S', 'T', 'U', 'V', 'W', 'X', 'Y', 'Z']\n",
      "['\\t', '\\n', 'A', 'B', 'C', 'D', 'E', 'F', 'G', 'H', 'I', 'J', 'K', 'L', 'M', 'N', 'O', 'P', 'Q', 'R', 'S', 'T', 'U', 'V', 'W', 'X', 'Y', 'Z']\n",
      "['A', 'B', 'C', 'D', 'E', 'F', 'G', 'H', 'I', 'J', 'K', 'L', 'M', 'N', 'O', 'P', 'Q', 'R', 'S', 'T', 'U', 'V', 'W', 'X', 'Y', 'Z']\n"
     ]
    }
   ],
   "source": [
    "print(ENIGMA_ENCODED.plain_train.alphabet)\n",
    "print(ENIGMA_ENCODED.cipher_train.alphabet)\n",
    "print(ENIGMA_ENCODED.plain_test.alphabet)\n",
    "print(ENIGMA_ENCODED.cipher_test.alphabet)"
   ]
  },
  {
   "cell_type": "code",
   "execution_count": 229,
   "metadata": {
    "scrolled": true
   },
   "outputs": [
    {
     "name": "stdout",
     "output_type": "stream",
     "text": [
      "[[[0. 0. 0. ... 0. 0. 0.]\n",
      "  [0. 0. 1. ... 0. 0. 0.]\n",
      "  [0. 0. 0. ... 0. 0. 0.]\n",
      "  ...\n",
      "  [0. 0. 0. ... 0. 0. 0.]\n",
      "  [0. 1. 0. ... 0. 0. 0.]\n",
      "  [0. 0. 0. ... 0. 0. 0.]]\n",
      "\n",
      " [[0. 0. 0. ... 0. 0. 0.]\n",
      "  [0. 0. 0. ... 0. 0. 0.]\n",
      "  [0. 0. 0. ... 0. 0. 0.]\n",
      "  ...\n",
      "  [0. 0. 0. ... 0. 0. 0.]\n",
      "  [0. 1. 0. ... 0. 0. 0.]\n",
      "  [0. 0. 0. ... 0. 0. 0.]]\n",
      "\n",
      " [[0. 0. 0. ... 0. 0. 0.]\n",
      "  [0. 0. 0. ... 0. 0. 0.]\n",
      "  [0. 0. 0. ... 0. 0. 0.]\n",
      "  ...\n",
      "  [0. 0. 0. ... 0. 0. 0.]\n",
      "  [0. 1. 0. ... 0. 0. 0.]\n",
      "  [0. 0. 0. ... 0. 0. 0.]]\n",
      "\n",
      " ...\n",
      "\n",
      " [[0. 0. 0. ... 0. 0. 0.]\n",
      "  [0. 0. 0. ... 0. 0. 0.]\n",
      "  [0. 0. 0. ... 0. 0. 0.]\n",
      "  ...\n",
      "  [0. 0. 0. ... 0. 0. 0.]\n",
      "  [0. 1. 0. ... 0. 0. 0.]\n",
      "  [0. 0. 0. ... 0. 0. 0.]]\n",
      "\n",
      " [[0. 0. 0. ... 0. 0. 0.]\n",
      "  [0. 0. 1. ... 0. 0. 0.]\n",
      "  [0. 0. 0. ... 0. 0. 0.]\n",
      "  ...\n",
      "  [0. 0. 0. ... 0. 0. 0.]\n",
      "  [0. 1. 0. ... 0. 0. 0.]\n",
      "  [0. 0. 0. ... 0. 0. 0.]]\n",
      "\n",
      " [[0. 0. 0. ... 0. 0. 0.]\n",
      "  [0. 0. 1. ... 0. 0. 0.]\n",
      "  [0. 0. 0. ... 0. 0. 0.]\n",
      "  ...\n",
      "  [0. 0. 0. ... 0. 0. 0.]\n",
      "  [0. 0. 0. ... 0. 0. 0.]\n",
      "  [0. 0. 0. ... 0. 0. 0.]]]\n"
     ]
    }
   ],
   "source": [
    "print(ENIGMA_ENCODED.plain_train.target_vector)"
   ]
  },
  {
   "cell_type": "markdown",
   "metadata": {},
   "source": [
    "# Create the Ultra Code Breaker model"
   ]
  },
  {
   "cell_type": "code",
   "execution_count": 230,
   "metadata": {},
   "outputs": [],
   "source": [
    "ultra = ec.UltraCodeBreaker(encoded_dataset=ENIGMA_ENCODED)"
   ]
  },
  {
   "cell_type": "markdown",
   "metadata": {},
   "source": [
    "# Train the model"
   ]
  },
  {
   "cell_type": "code",
   "execution_count": 232,
   "metadata": {},
   "outputs": [
    {
     "name": "stdout",
     "output_type": "stream",
     "text": [
      "Train on 46674 samples, validate on 20004 samples\n",
      "Epoch 1/50\n",
      "46674/46674 [==============================] - 18s 385us/step - loss: 2.1711 - val_loss: 2.2266\n",
      "Epoch 2/50\n",
      "46674/46674 [==============================] - 16s 350us/step - loss: 1.9999 - val_loss: 1.8813\n",
      "Epoch 3/50\n",
      "46674/46674 [==============================] - 16s 349us/step - loss: 1.7393 - val_loss: 1.6489\n",
      "Epoch 4/50\n",
      "46674/46674 [==============================] - 18s 387us/step - loss: 1.6326 - val_loss: 1.5361\n",
      "Epoch 5/50\n",
      "46674/46674 [==============================] - 17s 361us/step - loss: 1.4634 - val_loss: 1.4055\n",
      "Epoch 6/50\n",
      "46674/46674 [==============================] - 16s 351us/step - loss: 1.3405 - val_loss: 1.2981\n",
      "Epoch 7/50\n",
      "46674/46674 [==============================] - 16s 337us/step - loss: 1.2413 - val_loss: 1.1885\n",
      "Epoch 8/50\n",
      "46674/46674 [==============================] - 16s 337us/step - loss: 1.1247 - val_loss: 1.0999\n",
      "Epoch 9/50\n",
      "46674/46674 [==============================] - 18s 378us/step - loss: 1.0244 - val_loss: 0.9953\n",
      "Epoch 10/50\n",
      "46674/46674 [==============================] - 16s 346us/step - loss: 0.9291 - val_loss: 0.9255\n",
      "Epoch 11/50\n",
      "46674/46674 [==============================] - 17s 362us/step - loss: 0.8396 - val_loss: 0.8449\n",
      "Epoch 12/50\n",
      "46674/46674 [==============================] - 16s 338us/step - loss: 0.7602 - val_loss: 0.7881\n",
      "Epoch 13/50\n",
      "46674/46674 [==============================] - 16s 350us/step - loss: 0.6857 - val_loss: 0.7184\n",
      "Epoch 14/50\n",
      "46674/46674 [==============================] - 17s 358us/step - loss: 0.6178 - val_loss: 0.6628\n",
      "Epoch 15/50\n",
      "46674/46674 [==============================] - 16s 350us/step - loss: 0.5590 - val_loss: 0.6175\n",
      "Epoch 16/50\n",
      "46674/46674 [==============================] - 17s 368us/step - loss: 0.5017 - val_loss: 0.5751\n",
      "Epoch 17/50\n",
      "46674/46674 [==============================] - 16s 343us/step - loss: 0.4534 - val_loss: 0.5346\n",
      "Epoch 18/50\n",
      "46674/46674 [==============================] - 17s 358us/step - loss: 0.4098 - val_loss: 0.4993\n",
      "Epoch 19/50\n",
      "46674/46674 [==============================] - 17s 357us/step - loss: 0.3681 - val_loss: 0.4711\n",
      "Epoch 20/50\n",
      "46674/46674 [==============================] - 16s 350us/step - loss: 0.3313 - val_loss: 0.4466\n",
      "Epoch 21/50\n",
      "46674/46674 [==============================] - 16s 346us/step - loss: 0.3000 - val_loss: 0.4266\n",
      "Epoch 22/50\n",
      "46674/46674 [==============================] - 17s 366us/step - loss: 0.2712 - val_loss: 0.4023\n",
      "Epoch 23/50\n",
      "46674/46674 [==============================] - 17s 358us/step - loss: 0.2431 - val_loss: 0.3904\n",
      "Epoch 24/50\n",
      "46674/46674 [==============================] - 16s 353us/step - loss: 0.2186 - val_loss: 0.3761\n",
      "Epoch 25/50\n",
      "46674/46674 [==============================] - 17s 364us/step - loss: 0.1981 - val_loss: 0.3662\n",
      "Epoch 26/50\n",
      "46674/46674 [==============================] - 17s 355us/step - loss: 0.1771 - val_loss: 0.3556\n",
      "Epoch 27/50\n",
      "46674/46674 [==============================] - 16s 351us/step - loss: 0.1599 - val_loss: 0.3468\n",
      "Epoch 28/50\n",
      "46674/46674 [==============================] - 17s 370us/step - loss: 0.1438 - val_loss: 0.3420\n",
      "Epoch 29/50\n",
      "46674/46674 [==============================] - 18s 376us/step - loss: 0.1285 - val_loss: 0.3358\n",
      "Epoch 30/50\n",
      "46674/46674 [==============================] - 17s 356us/step - loss: 0.1138 - val_loss: 0.3266\n",
      "Epoch 31/50\n",
      "46674/46674 [==============================] - 17s 364us/step - loss: 0.1017 - val_loss: 0.3304\n",
      "Epoch 32/50\n",
      "46674/46674 [==============================] - 17s 365us/step - loss: 0.0913 - val_loss: 0.3236\n",
      "Epoch 33/50\n",
      "46674/46674 [==============================] - 16s 353us/step - loss: 0.0822 - val_loss: 0.3213\n",
      "Epoch 34/50\n",
      "46674/46674 [==============================] - 17s 360us/step - loss: 0.0742 - val_loss: 0.3196\n",
      "Epoch 35/50\n",
      "46674/46674 [==============================] - 17s 359us/step - loss: 0.0657 - val_loss: 0.3190\n",
      "Epoch 36/50\n",
      "46674/46674 [==============================] - 16s 350us/step - loss: 0.0577 - val_loss: 0.3199\n",
      "Epoch 37/50\n",
      "46674/46674 [==============================] - 17s 363us/step - loss: 0.0540 - val_loss: 0.3202\n",
      "Epoch 38/50\n",
      "46674/46674 [==============================] - 17s 368us/step - loss: 0.0470 - val_loss: 0.3209\n",
      "Epoch 39/50\n",
      "46674/46674 [==============================] - 17s 356us/step - loss: 0.0445 - val_loss: 0.3246\n",
      "Epoch 40/50\n",
      "46674/46674 [==============================] - 17s 366us/step - loss: 0.0402 - val_loss: 0.3219\n",
      "Epoch 41/50\n",
      "46674/46674 [==============================] - 17s 367us/step - loss: 0.0341 - val_loss: 0.3215\n",
      "Epoch 42/50\n",
      "46674/46674 [==============================] - 18s 391us/step - loss: 0.0314 - val_loss: 0.3302\n",
      "Epoch 43/50\n",
      "46674/46674 [==============================] - 18s 392us/step - loss: 0.0329 - val_loss: 0.3362\n",
      "Epoch 44/50\n",
      "46674/46674 [==============================] - 17s 357us/step - loss: 0.0323 - val_loss: 0.3355\n",
      "Epoch 45/50\n",
      "46674/46674 [==============================] - 16s 342us/step - loss: 0.0288 - val_loss: 0.3371\n",
      "Epoch 46/50\n",
      "46674/46674 [==============================] - 16s 338us/step - loss: 0.0256 - val_loss: 0.3293\n",
      "Epoch 47/50\n",
      "46674/46674 [==============================] - 16s 352us/step - loss: 0.0225 - val_loss: 0.3318\n",
      "Epoch 48/50\n",
      "46674/46674 [==============================] - 16s 353us/step - loss: 0.0356 - val_loss: 0.3461\n",
      "Epoch 49/50\n",
      "46674/46674 [==============================] - 17s 372us/step - loss: 0.0298 - val_loss: 0.3327\n",
      "Epoch 50/50\n",
      "46674/46674 [==============================] - 19s 399us/step - loss: 0.0180 - val_loss: 0.3219\n",
      "Model: \"model_43\"\n",
      "__________________________________________________________________________________________________\n",
      "Layer (type)                    Output Shape         Param #     Connected to                     \n",
      "==================================================================================================\n",
      "input_81 (InputLayer)           (None, None, 26)     0                                            \n",
      "__________________________________________________________________________________________________\n",
      "input_82 (InputLayer)           (None, None, 28)     0                                            \n",
      "__________________________________________________________________________________________________\n",
      "lstm_71 (LSTM)                  [(None, 256), (None, 289792      input_81[0][0]                   \n",
      "__________________________________________________________________________________________________\n",
      "lstm_72 (LSTM)                  [(None, None, 256),  291840      input_82[0][0]                   \n",
      "                                                                 lstm_71[0][1]                    \n",
      "                                                                 lstm_71[0][2]                    \n",
      "__________________________________________________________________________________________________\n",
      "dense_33 (Dense)                (None, None, 28)     7196        lstm_72[0][0]                    \n",
      "==================================================================================================\n",
      "Total params: 588,828\n",
      "Trainable params: 588,828\n",
      "Non-trainable params: 0\n",
      "__________________________________________________________________________________________________\n"
     ]
    }
   ],
   "source": [
    "ultra.train(epochs=50, n_nodes=256)\n",
    "ultra.model.summary()"
   ]
  },
  {
   "cell_type": "markdown",
   "metadata": {},
   "source": [
    "# Create the test model"
   ]
  },
  {
   "cell_type": "code",
   "execution_count": 233,
   "metadata": {},
   "outputs": [],
   "source": [
    "ultra.create_test_model(n_nodes=256)"
   ]
  },
  {
   "cell_type": "markdown",
   "metadata": {},
   "source": [
    "# Predict"
   ]
  },
  {
   "cell_type": "code",
   "execution_count": 234,
   "metadata": {},
   "outputs": [
    {
     "data": {
      "text/html": [
       "<div>\n",
       "<style scoped>\n",
       "    .dataframe tbody tr th:only-of-type {\n",
       "        vertical-align: middle;\n",
       "    }\n",
       "\n",
       "    .dataframe tbody tr th {\n",
       "        vertical-align: top;\n",
       "    }\n",
       "\n",
       "    .dataframe thead th {\n",
       "        text-align: right;\n",
       "    }\n",
       "</style>\n",
       "<table border=\"1\" class=\"dataframe\">\n",
       "  <thead>\n",
       "    <tr style=\"text-align: right;\">\n",
       "      <th></th>\n",
       "      <th>ID</th>\n",
       "      <th>PLAIN</th>\n",
       "      <th>CIPHER</th>\n",
       "    </tr>\n",
       "  </thead>\n",
       "  <tbody>\n",
       "    <tr>\n",
       "      <th>0</th>\n",
       "      <td>1588</td>\n",
       "      <td>FINALLY</td>\n",
       "      <td>JFPIAUN</td>\n",
       "    </tr>\n",
       "    <tr>\n",
       "      <th>1</th>\n",
       "      <td>1588</td>\n",
       "      <td>SUMMERA</td>\n",
       "      <td>WXYCOMH</td>\n",
       "    </tr>\n",
       "    <tr>\n",
       "      <th>2</th>\n",
       "      <td>1588</td>\n",
       "      <td>PPROACH</td>\n",
       "      <td>BZJKDVA</td>\n",
       "    </tr>\n",
       "    <tr>\n",
       "      <th>3</th>\n",
       "      <td>1588</td>\n",
       "      <td>TENHOTE</td>\n",
       "      <td>XOENYOH</td>\n",
       "    </tr>\n",
       "    <tr>\n",
       "      <th>4</th>\n",
       "      <td>1588</td>\n",
       "      <td>LSHAKE</td>\n",
       "      <td>KIDCWL</td>\n",
       "    </tr>\n",
       "  </tbody>\n",
       "</table>\n",
       "</div>"
      ],
      "text/plain": [
       "     ID    PLAIN   CIPHER\n",
       "0  1588  FINALLY  JFPIAUN\n",
       "1  1588  SUMMERA  WXYCOMH\n",
       "2  1588  PPROACH  BZJKDVA\n",
       "3  1588  TENHOTE  XOENYOH\n",
       "4  1588   LSHAKE   KIDCWL"
      ]
     },
     "execution_count": 234,
     "metadata": {},
     "output_type": "execute_result"
    }
   ],
   "source": [
    "ENIGMA_OBJ.test_data_partitioned.head()"
   ]
  },
  {
   "cell_type": "markdown",
   "metadata": {},
   "source": [
    "# Evaluate the test predictions"
   ]
  },
  {
   "cell_type": "code",
   "execution_count": 239,
   "metadata": {},
   "outputs": [],
   "source": [
    "# save_file = \"../data/RUN_DATA/enigma_predicted_n7_79.csv\"\n",
    "# save_file = './enigma_predicted_test.csv'\n",
    "ultra.predict()"
   ]
  },
  {
   "cell_type": "code",
   "execution_count": null,
   "metadata": {},
   "outputs": [],
   "source": [
    "ultra.evaluate('../data/processed/predictions_n7_acc77')"
   ]
  }
 ],
 "metadata": {
  "kernelspec": {
   "display_name": "Python 3",
   "language": "python",
   "name": "python3"
  },
  "language_info": {
   "codemirror_mode": {
    "name": "ipython",
    "version": 3
   },
   "file_extension": ".py",
   "mimetype": "text/x-python",
   "name": "python",
   "nbconvert_exporter": "python",
   "pygments_lexer": "ipython3",
   "version": "3.7.6"
  }
 },
 "nbformat": 4,
 "nbformat_minor": 2
}
